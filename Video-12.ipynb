{
 "cells": [
  {
   "cell_type": "code",
   "execution_count": 3,
   "metadata": {},
   "outputs": [],
   "source": [
    "def doSum1():\n",
    "    a = int(input(\"Enter first number:-\")) \n",
    "    b = int(input(\"Enter second number:-\"))\n",
    "    sum = a+b\n",
    "    print(\"sum is\",sum)\n"
   ]
  },
  {
   "cell_type": "code",
   "execution_count": null,
   "metadata": {},
   "outputs": [],
   "source": [
    "doSum1()"
   ]
  },
  {
   "cell_type": "code",
   "execution_count": 16,
   "metadata": {},
   "outputs": [],
   "source": [
    "def doSum2(fn,sn):\n",
    "    sum = fn+sn\n",
    "    print(\"sum is\",sum)\n"
   ]
  },
  {
   "cell_type": "code",
   "execution_count": 18,
   "metadata": {},
   "outputs": [
    {
     "name": "stdout",
     "output_type": "stream",
     "text": [
      "Enter first number:-10\n",
      "Enter second number:-20\n",
      "sum is 30\n"
     ]
    }
   ],
   "source": [
    "a = int(input(\"Enter first number:-\")) \n",
    "b = int(input(\"Enter second number:-\"))\n",
    "doSum2(a,b)"
   ]
  },
  {
   "cell_type": "code",
   "execution_count": 12,
   "metadata": {},
   "outputs": [],
   "source": [
    "def doSum3():\n",
    "    a = int(input(\"Enter first number:-\")) \n",
    "    b = int(input(\"Enter second number:-\"))\n",
    "    sum = a+b\n",
    "    return sum\n"
   ]
  },
  {
   "cell_type": "code",
   "execution_count": 13,
   "metadata": {},
   "outputs": [
    {
     "name": "stdout",
     "output_type": "stream",
     "text": [
      "Enter first number:-5\n",
      "Enter second number:-6\n",
      "11\n"
     ]
    }
   ],
   "source": [
    "res = doSum3()\n",
    "print(res)"
   ]
  },
  {
   "cell_type": "code",
   "execution_count": 21,
   "metadata": {},
   "outputs": [],
   "source": [
    "def doSum4(fn=100,sn=150):\n",
    "    sum = fn+sn\n",
    "    return sum"
   ]
  },
  {
   "cell_type": "code",
   "execution_count": 22,
   "metadata": {},
   "outputs": [
    {
     "name": "stdout",
     "output_type": "stream",
     "text": [
      "Enter first number:-2\n",
      "Enter second number:-5\n",
      "Sum is 7\n",
      "250\n"
     ]
    }
   ],
   "source": [
    "a = int(input(\"Enter first number:-\")) \n",
    "b = int(input(\"Enter second number:-\"))\n",
    "\n",
    "res = doSum4(a,b)\n",
    "print(\"Sum is\",res)\n",
    "\n",
    "result = doSum4()\n",
    "print(result)"
   ]
  },
  {
   "cell_type": "code",
   "execution_count": null,
   "metadata": {},
   "outputs": [],
   "source": []
  }
 ],
 "metadata": {
  "kernelspec": {
   "display_name": "Python 3",
   "language": "python",
   "name": "python3"
  },
  "language_info": {
   "codemirror_mode": {
    "name": "ipython",
    "version": 3
   },
   "file_extension": ".py",
   "mimetype": "text/x-python",
   "name": "python",
   "nbconvert_exporter": "python",
   "pygments_lexer": "ipython3",
   "version": "3.7.4"
  }
 },
 "nbformat": 4,
 "nbformat_minor": 2
}
