{
 "cells": [
  {
   "cell_type": "code",
   "execution_count": 5,
   "metadata": {},
   "outputs": [
    {
     "name": "stdout",
     "output_type": "stream",
     "text": [
      "This is Python@Hello World!\n",
      "I am teaching Python\n"
     ]
    }
   ],
   "source": [
    "print(\"This is Python\",end=\"@\")\n",
    "print(\"Hello World!\")\n",
    "print(\"I am teaching Python\")"
   ]
  },
  {
   "cell_type": "code",
   "execution_count": 16,
   "metadata": {},
   "outputs": [
    {
     "name": "stdout",
     "output_type": "stream",
     "text": [
      "Value of num1 is 100  and value of num2 is  50\n",
      "100#50\n"
     ]
    }
   ],
   "source": [
    "num1 = 100\n",
    "num2 = 50\n",
    "\n",
    "print(\"Value of num1 is\",num1,\" and value of num2 is \",num2)\n",
    "print(num1,num2,sep=\"#\")"
   ]
  },
  {
   "cell_type": "code",
   "execution_count": 13,
   "metadata": {},
   "outputs": [
    {
     "name": "stdout",
     "output_type": "stream",
     "text": [
      "Addition of 10 and 25 is 35\n"
     ]
    }
   ],
   "source": [
    "a = 10\n",
    "b = 25\n",
    "\n",
    "#sum = a + b\n",
    "\n",
    "print(\"Addition of\",a,\"and\",b,\"is\",a+b)"
   ]
  },
  {
   "cell_type": "code",
   "execution_count": null,
   "metadata": {},
   "outputs": [],
   "source": [
    "\"\"\"\n",
    "here...\n",
    "\"\"\""
   ]
  },
  {
   "cell_type": "code",
   "execution_count": null,
   "metadata": {},
   "outputs": [],
   "source": []
  }
 ],
 "metadata": {
  "kernelspec": {
   "display_name": "Python 3",
   "language": "python",
   "name": "python3"
  },
  "language_info": {
   "codemirror_mode": {
    "name": "ipython",
    "version": 3
   },
   "file_extension": ".py",
   "mimetype": "text/x-python",
   "name": "python",
   "nbconvert_exporter": "python",
   "pygments_lexer": "ipython3",
   "version": "3.7.4"
  }
 },
 "nbformat": 4,
 "nbformat_minor": 2
}
