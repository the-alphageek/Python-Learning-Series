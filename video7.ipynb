{
 "cells": [
  {
   "cell_type": "markdown",
   "metadata": {},
   "source": [
    "# WAP in which allow user to enter any number between 1 and 12. and in output print the month name for corrosponding number"
   ]
  },
  {
   "cell_type": "code",
   "execution_count": 6,
   "metadata": {},
   "outputs": [
    {
     "name": "stdout",
     "output_type": "stream",
     "text": [
      "Enter number:-15\n",
      "Invalid entry\n"
     ]
    }
   ],
   "source": [
    "m = int(input(\"Enter number:-\"))\n",
    "\n",
    "if m == 1:\n",
    "    print(\"Jan\")\n",
    "elif m == 2:\n",
    "    print(\"Feb\")\n",
    "elif m == 3:\n",
    "    print(\"Mar\")\n",
    "elif m == 4:\n",
    "    print(\"Apr\")\n",
    "elif m == 5:\n",
    "    print(\"May\")\n",
    "elif m == 6:\n",
    "    print(\"June\")\n",
    "elif m == 7:\n",
    "    print(\"July\")\n",
    "elif m == 8:\n",
    "    print(\"Aug\")\n",
    "elif m == 9:\n",
    "    print(\"Sep\")\n",
    "elif m == 10:\n",
    "    print(\"Oct\")\n",
    "elif m == 11:\n",
    "    print(\"Nov\")\n",
    "elif m == 12:\n",
    "    print(\"Dec\")\n",
    "else:\n",
    "    print(\"Invalid entry\")"
   ]
  },
  {
   "cell_type": "code",
   "execution_count": null,
   "metadata": {},
   "outputs": [],
   "source": []
  },
  {
   "cell_type": "code",
   "execution_count": 10,
   "metadata": {},
   "outputs": [
    {
     "name": "stdout",
     "output_type": "stream",
     "text": [
      "Enter number:-1\n",
      "Jan\n"
     ]
    }
   ],
   "source": [
    "m = int(input(\"Enter number:-\"))\n",
    "\n",
    "if m == 1:\n",
    "    print(\"Jan\")\n",
    "if m == 2:\n",
    "    print(\"Feb\")\n",
    "if m == 3:\n",
    "    print(\"Mar\")\n",
    "if m == 4:\n",
    "    print(\"Apr\")\n",
    "if m == 5:\n",
    "    print(\"May\")\n",
    "if m == 6:\n",
    "    print(\"June\")\n",
    "if m == 7:\n",
    "    print(\"July\")\n",
    "if m == 8:\n",
    "    print(\"Aug\")\n",
    "if m == 9:\n",
    "    print(\"Sep\")\n",
    "if m == 10:\n",
    "    print(\"Oct\")\n",
    "if m == 11:\n",
    "    print(\"Nov\")\n",
    "if m == 12:\n",
    "    print(\"Dec\")\n"
   ]
  },
  {
   "cell_type": "code",
   "execution_count": 15,
   "metadata": {},
   "outputs": [
    {
     "name": "stdout",
     "output_type": "stream",
     "text": [
      "Enter age:-25\n",
      "Enter Gender:-female\n",
      "Enter Membership category:-premium\n",
      "Have Vodka\n"
     ]
    }
   ],
   "source": [
    "\"\"\"\n",
    "WAP in which allow members of a club to enter their age, gender and membership category (value of membership category \n",
    "will be either general or premium) & in output print which kind of drink he/she will get from counter. Below are the\n",
    "condition for the same -\n",
    "\n",
    "1) if age is less the 15 then member will get coke\n",
    "\n",
    "2) if age is more then 15, gender is male and membership category is general then he will get Red Wine\n",
    "3) if age is more then 15, gender is male and membership category is premium then he will get Scotch \n",
    "\n",
    "4) if age is more then 15, gender is female and membership category is general then she will get cocktail\n",
    "5) if age is more then 15, gender is female and membership category is premium then she will get Vodka\n",
    "\"\"\"\n",
    "age = int(input(\"Enter age:-\"))\n",
    "gender = input(\"Enter Gender:-\")\n",
    "category = input(\"Enter Membership category:-\")\n",
    "\n",
    "if age<=15:\n",
    "    print(\"Have Coke\")\n",
    "else:\n",
    "    if gender == \"male\":\n",
    "        if category == \"general\":\n",
    "            print(\"Have Red wine\")\n",
    "        else:\n",
    "            print(\"Have Scotch\")\n",
    "    else:\n",
    "        if category == \"general\":\n",
    "            print(\"Have Cocktail\")\n",
    "        else:\n",
    "            print(\"Have Vodka\")\n",
    "    "
   ]
  },
  {
   "cell_type": "code",
   "execution_count": null,
   "metadata": {},
   "outputs": [],
   "source": []
  },
  {
   "cell_type": "code",
   "execution_count": null,
   "metadata": {},
   "outputs": [],
   "source": []
  }
 ],
 "metadata": {
  "kernelspec": {
   "display_name": "Python 3",
   "language": "python",
   "name": "python3"
  },
  "language_info": {
   "codemirror_mode": {
    "name": "ipython",
    "version": 3
   },
   "file_extension": ".py",
   "mimetype": "text/x-python",
   "name": "python",
   "nbconvert_exporter": "python",
   "pygments_lexer": "ipython3",
   "version": "3.7.4"
  }
 },
 "nbformat": 4,
 "nbformat_minor": 2
}
