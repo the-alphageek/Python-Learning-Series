{
 "cells": [
  {
   "cell_type": "code",
   "execution_count": 1,
   "metadata": {},
   "outputs": [
    {
     "name": "stdout",
     "output_type": "stream",
     "text": [
      "Enter Age:-71\n",
      "Sr. Citizen\n"
     ]
    }
   ],
   "source": [
    "\"\"\"\n",
    "WAP in which allow user to enter his/her age and in output print user is a Sr. Citizen or not \n",
    "\"\"\"\n",
    "age = int(input(\"Enter Age:-\"))\n",
    "if age>=60:\n",
    "    print(\"Sr. Citizen\")    \n",
    "else:\n",
    "    print(\"Not Sr. Citizen\")"
   ]
  },
  {
   "cell_type": "code",
   "execution_count": null,
   "metadata": {},
   "outputs": [],
   "source": [
    "\"\"\"\n",
    "WAP in which enter any day like \"monday\" or \"tuesday\" & in output print it is a working day or weekend\n",
    "\"\"\"\n",
    "day = input(\"Enter Day:-\")\n",
    "day = day.lower()\n",
    "if day == \"monday\" or day == \"tuesday\" or day == \"wedday\" or day == \"thrusday\" or day == \"friday\":\n",
    "    print(\"Working day\")\n",
    "else:\n",
    "    print(\"Weekend\")"
   ]
  },
  {
   "cell_type": "code",
   "execution_count": null,
   "metadata": {},
   "outputs": [],
   "source": []
  },
  {
   "cell_type": "code",
   "execution_count": null,
   "metadata": {},
   "outputs": [],
   "source": []
  },
  {
   "cell_type": "code",
   "execution_count": null,
   "metadata": {},
   "outputs": [],
   "source": []
  }
 ],
 "metadata": {
  "kernelspec": {
   "display_name": "Python 3",
   "language": "python",
   "name": "python3"
  },
  "language_info": {
   "codemirror_mode": {
    "name": "ipython",
    "version": 3
   },
   "file_extension": ".py",
   "mimetype": "text/x-python",
   "name": "python",
   "nbconvert_exporter": "python",
   "pygments_lexer": "ipython3",
   "version": "3.7.4"
  }
 },
 "nbformat": 4,
 "nbformat_minor": 2
}
