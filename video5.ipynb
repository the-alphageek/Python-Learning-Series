{
 "cells": [
  {
   "cell_type": "code",
   "execution_count": 6,
   "metadata": {},
   "outputs": [
    {
     "name": "stdout",
     "output_type": "stream",
     "text": [
      "P\n",
      "Y\n",
      "T\n",
      "H\n",
      "Enter any string:-hello\n",
      "o\n",
      "l\n"
     ]
    }
   ],
   "source": [
    "str = \"PYTHON\"\n",
    "\"\"\"\n",
    "P Y T H O N\n",
    "0 1 2 3 4 5\n",
    "\"\"\"\n",
    "print(str[0])\n",
    "print(str[1])\n",
    "print(str[2])\n",
    "print(str[3])\n",
    "\n",
    "str = input(\"Enter any string:-\")\n",
    "print(str[-1])\n",
    "print(str[-2])"
   ]
  },
  {
   "cell_type": "code",
   "execution_count": 10,
   "metadata": {},
   "outputs": [
    {
     "name": "stdout",
     "output_type": "stream",
     "text": [
      "Ind\n",
      "nd\n",
      "ndia\n",
      "Indi\n"
     ]
    }
   ],
   "source": [
    "str = \"India\"\n",
    "print(str[0:3])\n",
    "print(str[1:3])\n",
    "print(str[1:])\n",
    "print(str[:4])"
   ]
  },
  {
   "cell_type": "code",
   "execution_count": 13,
   "metadata": {},
   "outputs": [
    {
     "name": "stdout",
     "output_type": "stream",
     "text": [
      "y\n"
     ]
    }
   ],
   "source": [
    "#String is immutable\n",
    "a = \"My name is gautam\"\n",
    "b =  10\n",
    "print(a[1])\n",
    "b = 12;\n"
   ]
  },
  {
   "cell_type": "code",
   "execution_count": 17,
   "metadata": {},
   "outputs": [
    {
     "name": "stdout",
     "output_type": "stream",
     "text": [
      "Gautam teaching Python\n",
      "Gautam teaching Python in youtube\n",
      "Gautam teaching Python in youtube\n"
     ]
    }
   ],
   "source": [
    "name = \"Gautam\"\n",
    "activity = \"teaching Python\"\n",
    "\n",
    "msg1 = name+' '+activity\n",
    "print(msg1)\n",
    "\n",
    "msg2 = '{} {} in youtube'.format(name,activity)\n",
    "print(msg2)\n",
    "\n",
    "msg3 = f'{name} {activity} in youtube'\n",
    "print(msg3)"
   ]
  },
  {
   "cell_type": "code",
   "execution_count": 40,
   "metadata": {},
   "outputs": [
    {
     "name": "stdout",
     "output_type": "stream",
     "text": [
      "machine learning series\n",
      "MACHINE LEARNING SERIES\n",
      "Machine Learning Series\n",
      "23\n",
      "23\n",
      "2\n",
      "3\n"
     ]
    }
   ],
   "source": [
    "str = \"MACHINE learning seriEs\"\n",
    "print(str.lower())\n",
    "print(str.upper())\n",
    "print(str.title())\n",
    "print(str.__len__())\n",
    "print(len(str))\n",
    "print(str.count(\"e\"))\n",
    "print(str.find(\"HINE learn\"))"
   ]
  },
  {
   "cell_type": "code",
   "execution_count": 42,
   "metadata": {},
   "outputs": [
    {
     "name": "stdout",
     "output_type": "stream",
     "text": [
      "6\n"
     ]
    }
   ],
   "source": [
    "str = \"I want to learn python\"\n",
    "str = str.lower()\n",
    "a = str.count(\"a\")\n",
    "e = str.count(\"e\")\n",
    "i = str.count(\"i\")\n",
    "o = str.count(\"o\")\n",
    "u = str.count(\"u\")\n",
    "\n",
    "print(a+e+i+o+u)"
   ]
  }
 ],
 "metadata": {
  "kernelspec": {
   "display_name": "Python 3",
   "language": "python",
   "name": "python3"
  },
  "language_info": {
   "codemirror_mode": {
    "name": "ipython",
    "version": 3
   },
   "file_extension": ".py",
   "mimetype": "text/x-python",
   "name": "python",
   "nbconvert_exporter": "python",
   "pygments_lexer": "ipython3",
   "version": "3.7.4"
  }
 },
 "nbformat": 4,
 "nbformat_minor": 2
}
