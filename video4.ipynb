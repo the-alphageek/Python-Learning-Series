{
 "cells": [
  {
   "cell_type": "code",
   "execution_count": 7,
   "metadata": {},
   "outputs": [
    {
     "name": "stdout",
     "output_type": "stream",
     "text": [
      "Enter First Number:-5\n",
      "\n",
      "Enter Second Number:-7\n",
      "\tSum is 12\n",
      "Data Type of varivale \"a\" is : <class 'int'>\n",
      "Data Type of varivale b is : <class 'int'>\n"
     ]
    }
   ],
   "source": [
    "a = int(input(\"Enter First Number:-\"))\n",
    "b = int(input(\"\\nEnter Second Number:-\"))\n",
    "\n",
    "print(\"\\tSum is\", a+b);\n",
    "\n",
    "print(\"Data Type of varivale \\\"a\\\" is :\",type(a))\n",
    "print(\"Data Type of varivale b is :\",type(b))"
   ]
  },
  {
   "cell_type": "code",
   "execution_count": 11,
   "metadata": {},
   "outputs": [
    {
     "name": "stdout",
     "output_type": "stream",
     "text": [
      "Add: 12\n",
      "Sub: -2\n",
      "Multiply: 35\n",
      "Division 0.7142857142857143\n",
      "Modulus: 5\n",
      "Exponent: 78125\n",
      "Floor Division: 0\n"
     ]
    }
   ],
   "source": [
    "print(\"Add:\",a+b)\n",
    "print(\"Sub:\",a-b)\n",
    "print(\"Multiply:\",a*b)\n",
    "print(\"Division\",a/b)\n",
    "print(\"Modulus:\",a%b)\n",
    "print(\"Exponent:\",a**b)\n",
    "print(\"Floor Division:\",a//b)"
   ]
  },
  {
   "cell_type": "code",
   "execution_count": null,
   "metadata": {},
   "outputs": [],
   "source": []
  },
  {
   "cell_type": "code",
   "execution_count": null,
   "metadata": {},
   "outputs": [],
   "source": []
  }
 ],
 "metadata": {
  "kernelspec": {
   "display_name": "Python 3",
   "language": "python",
   "name": "python3"
  },
  "language_info": {
   "codemirror_mode": {
    "name": "ipython",
    "version": 3
   },
   "file_extension": ".py",
   "mimetype": "text/x-python",
   "name": "python",
   "nbconvert_exporter": "python",
   "pygments_lexer": "ipython3",
   "version": "3.7.4"
  }
 },
 "nbformat": 4,
 "nbformat_minor": 2
}
