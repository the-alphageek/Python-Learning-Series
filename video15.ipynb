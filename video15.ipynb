{
 "cells": [
  {
   "cell_type": "code",
   "execution_count": 4,
   "metadata": {},
   "outputs": [
    {
     "name": "stdout",
     "output_type": "stream",
     "text": [
      "()\n"
     ]
    }
   ],
   "source": [
    "tp = tuple()\n",
    "print(tp)"
   ]
  },
  {
   "cell_type": "code",
   "execution_count": 11,
   "metadata": {},
   "outputs": [
    {
     "name": "stdout",
     "output_type": "stream",
     "text": [
      "('Python', 51, False, 'Gautam')\n",
      "Gautam\n"
     ]
    }
   ],
   "source": [
    "tp1 = (\"Python\",51,False,\"Gautam\")\n",
    "print(tp1)\n",
    "print(tp1[3])"
   ]
  },
  {
   "cell_type": "code",
   "execution_count": 18,
   "metadata": {},
   "outputs": [
    {
     "name": "stdout",
     "output_type": "stream",
     "text": [
      "xyz\n"
     ]
    }
   ],
   "source": [
    "tp2=(\"xyz\",)\n",
    "print(tp2[0])"
   ]
  },
  {
   "cell_type": "code",
   "execution_count": 33,
   "metadata": {},
   "outputs": [
    {
     "name": "stdout",
     "output_type": "stream",
     "text": [
      "(51, False, 'Gautam')\n",
      "(False, 'Gautam')\n",
      "('Python', 51, False, 'Gautam', 12)\n",
      "(False, 'Gautam', 12, 20)\n"
     ]
    }
   ],
   "source": [
    "tp3 = (\"Python\",51,False,\"Gautam\",12,20)\n",
    "print(tp3[1:4])\n",
    "print(tp3[2:4])\n",
    "print(tp3[:5])\n",
    "print(tp3[2:])"
   ]
  },
  {
   "cell_type": "code",
   "execution_count": 35,
   "metadata": {},
   "outputs": [
    {
     "name": "stdout",
     "output_type": "stream",
     "text": [
      "<class 'tuple'>\n"
     ]
    }
   ],
   "source": [
    "color = (\"red\",\"green\",\"blue\",\"yellow\")\n",
    "print(type(color))\n",
    "#del color[1:3]#Error\n",
    "del color\n",
    "#print(color)"
   ]
  },
  {
   "cell_type": "code",
   "execution_count": 36,
   "metadata": {},
   "outputs": [
    {
     "name": "stdout",
     "output_type": "stream",
     "text": [
      "(2, 4, 6)\n"
     ]
    }
   ],
   "source": [
    "l=[2,4,6]\n",
    "t=tuple(l)\n",
    "print(t)"
   ]
  },
  {
   "cell_type": "code",
   "execution_count": 38,
   "metadata": {},
   "outputs": [
    {
     "name": "stdout",
     "output_type": "stream",
     "text": [
      "[2, 101, 6]\n"
     ]
    }
   ],
   "source": [
    "t=(2,4,6)\n",
    "l=list(t)\n",
    "l[1]=101\n",
    "print(l)\n"
   ]
  },
  {
   "cell_type": "code",
   "execution_count": null,
   "metadata": {},
   "outputs": [],
   "source": [
    "#Tuple Concatenation & Tuple Repetition\n",
    "tup1 = (\"John\",\"Smith\",\"Raj\",\"John\",10,30,50,100)\n",
    "tup2 =(\"Amit\",)\n",
    "print(tup1+tup2)\n",
    "print(tup2*3)"
   ]
  }
 ],
 "metadata": {
  "kernelspec": {
   "display_name": "Python 3",
   "language": "python",
   "name": "python3"
  },
  "language_info": {
   "codemirror_mode": {
    "name": "ipython",
    "version": 3
   },
   "file_extension": ".py",
   "mimetype": "text/x-python",
   "name": "python",
   "nbconvert_exporter": "python",
   "pygments_lexer": "ipython3",
   "version": "3.7.4"
  }
 },
 "nbformat": 4,
 "nbformat_minor": 2
}
