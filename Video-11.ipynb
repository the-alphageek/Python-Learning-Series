{
 "cells": [
  {
   "cell_type": "markdown",
   "metadata": {},
   "source": [
    "# Nested Loop"
   ]
  },
  {
   "cell_type": "code",
   "execution_count": 13,
   "metadata": {},
   "outputs": [
    {
     "name": "stdout",
     "output_type": "stream",
     "text": [
      "\n",
      "Outer Loop:- 1\n",
      "Inner Loop:-1\t2\t3\t4\t5\t\n",
      "Outer Loop:- 2\n",
      "Inner Loop:-1\t2\t3\t4\t5\t\n",
      "Outer Loop:- 3\n",
      "Inner Loop:-1\t2\t3\t4\t5\t\n",
      "Outer Loop:- 4\n",
      "Inner Loop:-1\t2\t3\t4\t5\t\n",
      "Outer Loop:- 5\n",
      "Inner Loop:-1\t2\t3\t4\t5\t\n",
      "Outer Loop:- 6\n",
      "Inner Loop:-1\t2\t3\t4\t5\t\n",
      "Outer Loop:- 7\n",
      "Inner Loop:-1\t2\t3\t4\t5\t\n",
      "Outer Loop:- 8\n",
      "Inner Loop:-1\t2\t3\t4\t5\t\n",
      "Outer Loop:- 9\n",
      "Inner Loop:-1\t2\t3\t4\t5\t\n",
      "Outer Loop:- 10\n",
      "Inner Loop:-1\t2\t3\t4\t5\t"
     ]
    }
   ],
   "source": [
    "a = 1\n",
    "while a<11:\n",
    "    print(\"\\nOuter Loop:-\",a)\n",
    "    a+=1\n",
    "    b=1\n",
    "    print(\"Inner Loop\",end=\":-\")\n",
    "    while b<=5:\n",
    "        print(b,end=\"\\t\")\n",
    "        b+=1;"
   ]
  },
  {
   "cell_type": "code",
   "execution_count": 12,
   "metadata": {},
   "outputs": [
    {
     "name": "stdout",
     "output_type": "stream",
     "text": [
      "1\n",
      "12\n",
      "123\n",
      "1234\n",
      "12345\n"
     ]
    }
   ],
   "source": [
    "\"\"\"\n",
    "1\n",
    "12\n",
    "123\n",
    "1234\n",
    "12345\n",
    "\"\"\"\n",
    "i=1\n",
    "while i<=5:\n",
    "    for j in range(1,i+1):\n",
    "        print(j,end=\"\")\n",
    "    i+=1\n",
    "    print(\"\")"
   ]
  },
  {
   "cell_type": "code",
   "execution_count": 15,
   "metadata": {},
   "outputs": [
    {
     "name": "stdout",
     "output_type": "stream",
     "text": [
      "\n"
     ]
    }
   ],
   "source": []
  }
 ],
 "metadata": {
  "kernelspec": {
   "display_name": "Python 3",
   "language": "python",
   "name": "python3"
  },
  "language_info": {
   "codemirror_mode": {
    "name": "ipython",
    "version": 3
   },
   "file_extension": ".py",
   "mimetype": "text/x-python",
   "name": "python",
   "nbconvert_exporter": "python",
   "pygments_lexer": "ipython3",
   "version": "3.7.4"
  }
 },
 "nbformat": 4,
 "nbformat_minor": 2
}
