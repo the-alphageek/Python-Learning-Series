{
 "cells": [
  {
   "cell_type": "code",
   "execution_count": 8,
   "metadata": {},
   "outputs": [
    {
     "name": "stdout",
     "output_type": "stream",
     "text": [
      "[]\n"
     ]
    }
   ],
   "source": [
    "#create a blank list\n",
    "\n",
    "myList = list()\n",
    "print(myList)"
   ]
  },
  {
   "cell_type": "code",
   "execution_count": 17,
   "metadata": {},
   "outputs": [
    {
     "name": "stdout",
     "output_type": "stream",
     "text": [
      "[2, 5, True, 'Gautam', 6.5]\n",
      "2\n",
      "5\n",
      "Gautam\n",
      "[2, 5, True, 'Gautam', 6.5, 'Python']\n"
     ]
    }
   ],
   "source": [
    "myList =[2,5,True,\"Gautam\",6.5]\n",
    "print(myList)\n",
    "print(myList[0])\n",
    "print(myList[1])\n",
    "print(myList[3])\n",
    "myList.append(\"Python\")\n",
    "print(myList)"
   ]
  },
  {
   "cell_type": "code",
   "execution_count": 2,
   "metadata": {},
   "outputs": [
    {
     "name": "stdout",
     "output_type": "stream",
     "text": [
      "Enter Length of list:-5\n",
      "Enter item:-90\n",
      "Enter item:-True\n",
      "Enter item:-Gautam\n",
      "Enter item:-8.5\n",
      "Enter item:-56\n",
      "['90', 'True', 'Gautam', '8.5', '56']\n"
     ]
    }
   ],
   "source": [
    "#Create a dynamic list\n",
    "listLength = int(input(\"Enter Length of list:-\"))\n",
    "if listLength<1 or listLength>10:\n",
    "    print(\"Invalid entry!\")\n",
    "else:\n",
    "    myList = list()\n",
    "    i=0\n",
    "    while i<listLength:\n",
    "        value = input(\"Enter item:-\")\n",
    "        myList.append(value)\n",
    "        i+=1\n",
    "    print(myList)    \n",
    "    "
   ]
  },
  {
   "cell_type": "code",
   "execution_count": 23,
   "metadata": {},
   "outputs": [
    {
     "name": "stdout",
     "output_type": "stream",
     "text": [
      "['Mon', 'Tue', 'Wed', 'Thrus', 'Tue']\n"
     ]
    }
   ],
   "source": [
    "days = [\"Mon\",\"Tue\",\"Thrus\",\"Tue\"]\n",
    "days.insert(2,\"Wed\")\n",
    "print(days)"
   ]
  },
  {
   "cell_type": "code",
   "execution_count": 24,
   "metadata": {},
   "outputs": [
    {
     "name": "stdout",
     "output_type": "stream",
     "text": [
      "2\n",
      "1\n"
     ]
    }
   ],
   "source": [
    "print(days.count(\"Tue\"))\n",
    "print(days.index(\"Tue\"))"
   ]
  },
  {
   "cell_type": "code",
   "execution_count": 25,
   "metadata": {},
   "outputs": [
    {
     "name": "stdout",
     "output_type": "stream",
     "text": [
      "['Mon', 'Tue', 'Wed', 'Tue']\n"
     ]
    }
   ],
   "source": [
    "# remove() & pop()\n",
    "days.remove(\"Thrus\")\n",
    "print(days)\n"
   ]
  },
  {
   "cell_type": "code",
   "execution_count": 26,
   "metadata": {},
   "outputs": [
    {
     "name": "stdout",
     "output_type": "stream",
     "text": [
      "['Mon', 'Tue', 'Wed']\n"
     ]
    }
   ],
   "source": [
    "days.pop()\n",
    "print(days)"
   ]
  },
  {
   "cell_type": "code",
   "execution_count": null,
   "metadata": {},
   "outputs": [],
   "source": []
  }
 ],
 "metadata": {
  "kernelspec": {
   "display_name": "Python 3",
   "language": "python",
   "name": "python3"
  },
  "language_info": {
   "codemirror_mode": {
    "name": "ipython",
    "version": 3
   },
   "file_extension": ".py",
   "mimetype": "text/x-python",
   "name": "python",
   "nbconvert_exporter": "python",
   "pygments_lexer": "ipython3",
   "version": "3.7.4"
  }
 },
 "nbformat": 4,
 "nbformat_minor": 2
}
