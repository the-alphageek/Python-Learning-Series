{
 "cells": [
  {
   "cell_type": "code",
   "execution_count": 4,
   "metadata": {},
   "outputs": [
    {
     "name": "stdout",
     "output_type": "stream",
     "text": [
      "First number:-5\n",
      "Second number:-3\n",
      "Enter Arithmetic operation:-xyz\n",
      "Invalid operation\n"
     ]
    }
   ],
   "source": [
    "\"\"\"\n",
    "WAP in which allow user to enter two numbers and a string for any arithmetic operation (add/sub/multiply/division).\n",
    "On the basis of entered string perform arithmetic operation in entered numbers\n",
    "\"\"\"\n",
    "\n",
    "fn = int(input(\"First number:-\"))\n",
    "sn = int(input(\"Second number:-\"))\n",
    "\n",
    "opr = input(\"Enter Arithmetic operation:-\")\n",
    "opr = opr.lower()\n",
    "\n",
    "data = {\n",
    "    'add': fn+sn,\n",
    "    'sub': fn-sn,\n",
    "    'mul': fn*sn,\n",
    "    'div': fn/sn\n",
    "}\n",
    "\n",
    "print(data.get(opr,\"Invalid operation\"))"
   ]
  },
  {
   "cell_type": "code",
   "execution_count": null,
   "metadata": {},
   "outputs": [],
   "source": []
  }
 ],
 "metadata": {
  "kernelspec": {
   "display_name": "Python 3",
   "language": "python",
   "name": "python3"
  },
  "language_info": {
   "codemirror_mode": {
    "name": "ipython",
    "version": 3
   },
   "file_extension": ".py",
   "mimetype": "text/x-python",
   "name": "python",
   "nbconvert_exporter": "python",
   "pygments_lexer": "ipython3",
   "version": "3.7.4"
  }
 },
 "nbformat": 4,
 "nbformat_minor": 2
}
